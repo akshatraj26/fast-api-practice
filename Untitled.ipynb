{
 "cells": [
  {
   "cell_type": "code",
   "execution_count": 1,
   "id": "02ede71f-9b8e-419e-a9ed-b525b802631d",
   "metadata": {},
   "outputs": [
    {
     "name": "stdout",
     "output_type": "stream",
     "text": [
      "gdlaubcuorse\n"
     ]
    }
   ],
   "source": [
    "s1 = 'glucose'\n",
    "s2 = 'dabur'\n",
    "i = 0\n",
    "merged = ''\n",
    "while i < len(s1) or i < len(s2):\n",
    "    if i < len(s1):\n",
    "        merged += s1[i]\n",
    "    if i < len(s2):\n",
    "        merged += s2[i]\n",
    "\n",
    "    i += 1\n",
    "\n",
    "print(merged)"
   ]
  },
  {
   "cell_type": "code",
   "execution_count": 2,
   "id": "aa6a11d9-999a-41e9-8ac5-ef3d67e3c6df",
   "metadata": {},
   "outputs": [
    {
     "name": "stdout",
     "output_type": "stream",
     "text": [
      "Palindrome\n"
     ]
    }
   ],
   "source": [
    "string1 = 'tenet'\n",
    "text = ''\n",
    "\n",
    "for i in string1:\n",
    "    text = i + text\n",
    "\n",
    "if text == string1:\n",
    "    print(\"Palindrome\")\n",
    "else:\n",
    "    print(\"Not a Palindrome\")"
   ]
  },
  {
   "cell_type": "code",
   "execution_count": 3,
   "id": "19fddb85-fb05-48ad-84f0-1eaebb0a68ec",
   "metadata": {},
   "outputs": [
    {
     "data": {
      "text/plain": [
       "'Not a Palindrome'"
      ]
     },
     "execution_count": 3,
     "metadata": {},
     "output_type": "execute_result"
    }
   ],
   "source": [
    "def is_palindrome(num):\n",
    "    temp = num\n",
    "    palin = 0\n",
    "    while num < len(str(num)):\n",
    "        rem = num % 2\n",
    "        palin = 10 * palin + rem\n",
    "        num /= 10\n",
    "    if temp == palin:\n",
    "        msg = \"Palindrome\"\n",
    "    else:\n",
    "        msg = \"Not a Palindrome\"\n",
    "    return msg\n",
    "\n",
    "\n",
    "is_palindrome(3163)"
   ]
  },
  {
   "cell_type": "code",
   "execution_count": 6,
   "id": "bfcb713a-083f-47ba-8d16-97e300a8ed40",
   "metadata": {},
   "outputs": [
    {
     "data": {
      "text/plain": [
       "'palindrome'"
      ]
     },
     "execution_count": 6,
     "metadata": {},
     "output_type": "execute_result"
    }
   ],
   "source": [
    "lis = [5,313,500,313,5]\n",
    "def lis_palin(lis):\n",
    "    j = len(lis) -1 \n",
    "    for i in range(len(lis)):\n",
    "        if lis[i] == lis[j-i]:\n",
    "            msg = 'palindrome'\n",
    "        else:\n",
    "            msg = 'not a palindrome'\n",
    "    return msg\n",
    "\n",
    "lis_palin(lis)"
   ]
  },
  {
   "cell_type": "code",
   "execution_count": 9,
   "id": "8d3dd387-6698-4b6e-a38a-226843af66b5",
   "metadata": {},
   "outputs": [
    {
     "name": "stdout",
     "output_type": "stream",
     "text": [
      "\n"
     ]
    }
   ],
   "source": [
    "i = 0\n",
    "j = len(lis) - 1\n",
    "msg = ''\n",
    "while i > j:\n",
    "    if lis[i] == lis[j-i]:\n",
    "        msg = 'palindrome'\n",
    "    else:\n",
    "        msg = \"not a palindrome\"\n",
    "\n",
    "    i += 1\n",
    "\n",
    "print(msg)"
   ]
  },
  {
   "cell_type": "code",
   "execution_count": null,
   "id": "dc339c8d-69f3-4a95-8c3b-c57a9b773e2f",
   "metadata": {},
   "outputs": [],
   "source": []
  }
 ],
 "metadata": {
  "kernelspec": {
   "display_name": "Python 3 (ipykernel)",
   "language": "python",
   "name": "python3"
  },
  "language_info": {
   "codemirror_mode": {
    "name": "ipython",
    "version": 3
   },
   "file_extension": ".py",
   "mimetype": "text/x-python",
   "name": "python",
   "nbconvert_exporter": "python",
   "pygments_lexer": "ipython3",
   "version": "3.12.2"
  }
 },
 "nbformat": 4,
 "nbformat_minor": 5
}
