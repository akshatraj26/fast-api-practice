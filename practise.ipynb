{
 "cells": [
  {
   "cell_type": "code",
   "execution_count": 1,
   "metadata": {},
   "outputs": [
    {
     "name": "stdout",
     "output_type": "stream",
     "text": [
      "gdlaubcuorse\n"
     ]
    }
   ],
   "source": [
    "s1 = 'glucose'\n",
    "s2 = 'dabur'\n",
    "i = 0\n",
    "merged = ''\n",
    "while i < len(s1) or i < len(s2):\n",
    "    if i < len(s1):\n",
    "        merged += s1[i]\n",
    "    if i < len(s2):\n",
    "        merged += s2[i]\n",
    "\n",
    "    i += 1\n",
    "\n",
    "print(merged)"
   ]
  },
  {
   "cell_type": "code",
   "execution_count": null,
   "metadata": {},
   "outputs": [],
   "source": [
    "lis = [5, 313, 500, 313, 5]\n",
    "def lis_palindrome(lis):\n",
    "    j = len(lis) - 1\n",
    "    for i in range(len(lis)):\n",
    "        if lis[i] == lis[j-i]:\n",
    "            msg = 'palindrome'\n",
    "        else:\n",
    "            msg = 'no palindrome'\n",
    "    return msg\n",
    "\n",
    "print(\"list:- \",lis_palindrome(lis))"
   ]
  },
  {
   "cell_type": "code",
   "execution_count": null,
   "metadata": {},
   "outputs": [],
   "source": []
  }
 ],
 "metadata": {
  "kernelspec": {
   "display_name": ".fastapi",
   "language": "python",
   "name": "python3"
  },
  "language_info": {
   "codemirror_mode": {
    "name": "ipython",
    "version": 3
   },
   "file_extension": ".py",
   "mimetype": "text/x-python",
   "name": "python",
   "nbconvert_exporter": "python",
   "pygments_lexer": "ipython3",
   "version": "3.11.5"
  }
 },
 "nbformat": 4,
 "nbformat_minor": 2
}
